{
 "cells": [
  {
   "cell_type": "markdown",
   "id": "ae241d9e",
   "metadata": {},
   "source": [
    "# Assignment 5 part 1\n",
    "**Directions** Acquire power data for at least 10 days. Load the data into a Jupyter Notebook. Create two bar graphs of the power consumption per hour:\n",
    "One bar graph has 24 bars; \n",
    "one bar graph has 24*(number of days) bars. \n",
    "\n",
    "\n",
    "**TLDR** load CSV, create datetime dataframe, resample CSV data, and slice data to create 2 bar graphs "
   ]
  },
  {
   "cell_type": "code",
   "execution_count": 203,
   "id": "a534159f",
   "metadata": {},
   "outputs": [],
   "source": [
    "import pandas as pd\n",
    "import matplotlib.pyplot as plt\n",
    "from datetime import datetime\n",
    "import numpy as np"
   ]
  },
  {
   "cell_type": "markdown",
   "id": "9614b546",
   "metadata": {},
   "source": [
    "**COMMENT** use pandas (pd) to open the CSV file w/ pd.read_csv( ), this will also create a dataframe\n",
    "\n",
    "NOTE: Because the csv file was too big in download, I had to download 2 files to include all 10 days. I will combine both of the files by using pd.concat(map( )) and again open the files with pd.read_csv( ) but now with [  ] to add in the multiple files \n",
    "Otherwise...if you have a single file you can simply open and create a df with \n",
    "df = pd.read_csv('/Users/hafsachaudhry/Downloads/RollingSystemDemand_20211028_0150.csv')\n",
    "\n",
    "Once completed we will print out the dataframe loaded. As you can see below, there are 2 issues. \n",
    "1. the dataframe is a collection of information for every 5 minutes and\n",
    "2. the HDR dates and time values look funky"
   ]
  },
  {
   "cell_type": "code",
   "execution_count": 204,
   "id": "335bfe63",
   "metadata": {
    "scrolled": true
   },
   "outputs": [
    {
     "name": "stdout",
     "output_type": "stream",
     "text": [
      "                 HDR  ROLLING SYSTEM DEMAND\n",
      "0     20211017000000                21223.0\n",
      "1     20211017000500                21430.0\n",
      "2     20211017001000                21523.0\n",
      "3     20211017001500                21486.0\n",
      "4     20211017002000                21564.0\n",
      "...              ...                    ...\n",
      "3148  20211027233500                22283.0\n",
      "3149  20211027234000                22205.0\n",
      "3150  20211027234500                22108.0\n",
      "3151  20211027235000                21942.0\n",
      "3152  20211027235500                21860.0\n",
      "\n",
      "[3152 rows x 2 columns]\n",
      "**************************************************************\n"
     ]
    }
   ],
   "source": [
    "df = pd.concat(map(pd.read_csv,['/Users/hafsachaudhry/Downloads/RollingSystemDemand_20211028_0150.csv','/Users/hafsachaudhry/Downloads/RollingSystemDemand_20211028_0152.csv']),ignore_index=True)\n",
    "df = df.dropna() #drops the empty slots \n",
    "\n",
    "print(df)\n",
    "print(\"**************************************************************\")"
   ]
  },
  {
   "cell_type": "markdown",
   "id": "42a436eb",
   "metadata": {},
   "source": [
    "**COMMENT** use pd.to_datetime to convert 20211017001500 to 2021-10-17 00:15:00 so that we can easily see the date+time stamps"
   ]
  },
  {
   "cell_type": "code",
   "execution_count": 205,
   "id": "7e4a4813",
   "metadata": {},
   "outputs": [
    {
     "name": "stdout",
     "output_type": "stream",
     "text": [
      "                     HDR  ROLLING SYSTEM DEMAND\n",
      "0    2021-10-17 00:00:00                21223.0\n",
      "1    2021-10-17 00:05:00                21430.0\n",
      "2    2021-10-17 00:10:00                21523.0\n",
      "3    2021-10-17 00:15:00                21486.0\n",
      "4    2021-10-17 00:20:00                21564.0\n",
      "...                  ...                    ...\n",
      "3148 2021-10-27 23:35:00                22283.0\n",
      "3149 2021-10-27 23:40:00                22205.0\n",
      "3150 2021-10-27 23:45:00                22108.0\n",
      "3151 2021-10-27 23:50:00                21942.0\n",
      "3152 2021-10-27 23:55:00                21860.0\n",
      "\n",
      "[3152 rows x 2 columns]\n",
      "**************************************************************\n"
     ]
    }
   ],
   "source": [
    "#convert 20211017001500 to 2021-10-17 00:15:00\n",
    "df['HDR'] = pd.to_datetime(df['HDR'],format='%Y%m%d%H%M%S')\n",
    "\n",
    "print(df)\n",
    "print(\"**************************************************************\")"
   ]
  },
  {
   "cell_type": "markdown",
   "id": "cdf10ec6",
   "metadata": {},
   "source": [
    "**COMMENT** use resample( ) to get data per hour instead of per every 5 minutes. Get the correct resampled values per hour by collecting the mean. \n",
    "\n",
    "NOTE: When we resampled the data below, it moved HDR from a column to an index so you have to add .reset_index( ) at the end to have HDR remain a column to plot \n",
    "\n",
    "Lets also print out the new dataframe to double check our values"
   ]
  },
  {
   "cell_type": "code",
   "execution_count": 206,
   "id": "a8ed517b",
   "metadata": {},
   "outputs": [],
   "source": [
    "df2 = df.resample('1H', on='HDR').mean().reset_index()"
   ]
  },
  {
   "cell_type": "code",
   "execution_count": 229,
   "id": "55f2ab80",
   "metadata": {},
   "outputs": [
    {
     "name": "stdout",
     "output_type": "stream",
     "text": [
      "                  HDR  ROLLING SYSTEM DEMAND\n",
      "0 2021-10-17 00:00:00           21550.333333\n",
      "1 2021-10-17 01:00:00           21342.833333\n",
      "2 2021-10-17 02:00:00           20755.833333\n",
      "3 2021-10-17 03:00:00           20436.666667\n",
      "4 2021-10-17 04:00:00           20399.250000\n",
      "5 2021-10-17 05:00:00           21477.000000\n",
      "6 2021-10-17 06:00:00           22780.916667\n",
      "7 2021-10-17 07:00:00           25324.333333\n",
      "8 2021-10-17 08:00:00           28128.083333\n",
      "9 2021-10-17 09:00:00           29574.250000 \n",
      "\n",
      "\n",
      "\n",
      "<class 'pandas.core.frame.DataFrame'>\n",
      "RangeIndex: 264 entries, 0 to 263\n",
      "Data columns (total 2 columns):\n",
      " #   Column                 Non-Null Count  Dtype         \n",
      "---  ------                 --------------  -----         \n",
      " 0   HDR                    264 non-null    datetime64[ns]\n",
      " 1   ROLLING SYSTEM DEMAND  263 non-null    float64       \n",
      "dtypes: datetime64[ns](1), float64(1)\n",
      "memory usage: 4.2 KB\n",
      "None\n",
      "**************************************************************\n"
     ]
    }
   ],
   "source": [
    "# check if all columns are still there: print(df2.columns)\n",
    "# print first 10 values and dataframe info to check if resample worked:\n",
    "print(df2.head(10),\"\\n\")\n",
    "print(\"\\n\")\n",
    "print(df2.info())\n",
    "print(\"**************************************************************\")"
   ]
  },
  {
   "cell_type": "markdown",
   "id": "d1a88cfd",
   "metadata": {},
   "source": [
    "**COMMENT** now that we have per hour, it cut the data frame from 3152 entries to 264 entries... BUT we still only need to plot 24 bars in our first bar graph. This implies that we are only collecting the first 24 hours of the first day\n",
    "\n",
    "TO DO THIS: lets slice our df again but this time by using iloc. iloc only selects values in the [ ] \n",
    "\n",
    "THEN: we will use the plot.bar( ) method to actually plot the data\n",
    "\n",
    "**BAR GRAPH 1**"
   ]
  },
  {
   "cell_type": "code",
   "execution_count": 285,
   "id": "1c531224",
   "metadata": {},
   "outputs": [
    {
     "data": {
      "text/plain": [
       "Text(0, 0.5, 'Demand (RSD)')"
      ]
     },
     "execution_count": 285,
     "metadata": {},
     "output_type": "execute_result"
    },
    {
     "data": {
      "image/png": "[encoded data removed]",
      "text/plain": [
       "<Figure size 432x288 with 1 Axes>"
      ]
     },
     "metadata": {
      "needs_background": "light"
     },
     "output_type": "display_data"
    }
   ],
   "source": [
    "# bar graph 1: 24 hours of first day \n",
    "df2.iloc[0:23].plot.bar(x = 'HDR', y = 'ROLLING SYSTEM DEMAND') \n",
    "plt.title(\"Demand for First 24 hours\")\n",
    "plt.xlabel(\"Days (HDR)\")\n",
    "plt.ylabel(\"Demand (RSD)\")"
   ]
  },
  {
   "cell_type": "markdown",
   "id": "0186898b",
   "metadata": {},
   "source": [
    "**COMMENT** For our next bar graph, I only need 24x(days). If I plot the bar graph I encounter 2 problems \n",
    "\n",
    "1. I have 264 entries of data instead of 240 (because I downloaded the data mid-day, so I have a few extra hours of data)\n",
    "2. My labels are all jumbled up together and creating one big black mush\n",
    "\n",
    "**ERROR**"
   ]
  },
  {
   "cell_type": "code",
   "execution_count": 227,
   "id": "6e33ec9c",
   "metadata": {},
   "outputs": [
    {
     "data": {
      "text/plain": [
       "<AxesSubplot:xlabel='HDR'>"
      ]
     },
     "execution_count": 227,
     "metadata": {},
     "output_type": "execute_result"
    },
    {
     "data": {
      "image/png": "[encoded data removed]",
      "text/plain": [
       "<Figure size 432x288 with 1 Axes>"
      ]
     },
     "metadata": {
      "needs_background": "light"
     },
     "output_type": "display_data"
    }
   ],
   "source": [
    "df2.plot.bar(x = 'HDR', y = 'ROLLING SYSTEM DEMAND')"
   ]
  },
  {
   "cell_type": "markdown",
   "id": "0d56e6e3",
   "metadata": {},
   "source": [
    "**COMMENT** Lets fix the above graph by: \n",
    "1. using iloc again to collect neccesary data only\n",
    "2. use matplotlib.plyplot as plt to access xticks \n",
    "\n",
    "plt.xticks will allow for me to select only the neccessary x-axis ticks, index 0-23 = 1 full day so count the necessary tick locations in the first [ ] by adding another 24. and then I also relabel it in the next [ ] \n",
    "\n",
    "**FIXED**\n",
    "\n",
    "**BAR GRAPH 2**"
   ]
  },
  {
   "cell_type": "code",
   "execution_count": 295,
   "id": "8f984681",
   "metadata": {},
   "outputs": [
    {
     "data": {
      "image/png": "[encoded data removed]",
      "text/plain": [
       "<Figure size 432x288 with 1 Axes>"
      ]
     },
     "metadata": {
      "needs_background": "light"
     },
     "output_type": "display_data"
    }
   ],
   "source": [
    "# bar graph 2: 24*10 = 240 entries \n",
    "df2.iloc[0:239].plot.bar(y = 'ROLLING SYSTEM DEMAND')\n",
    "plt.xticks([0,23,47,71,95,119,143,167,191,215,239],[\"0\",\"10-17-21\",\"10-18-21\",\"10-19-21\",\"10-20-21\",\"10-21-21\",\"10-22-21\",\"10-23-21\",\"10-24-21\",\"10-25-21\",\"10-26-21\"])\n",
    "plt.title(\"Hourly Demand for 10 Days\")\n",
    "plt.xlabel(\"Days (HDR)\")\n",
    "plt.ylabel(\"Demand (RSD)\")\n",
    "plt.show()"
   ]
  },
  {
   "cell_type": "markdown",
   "id": "d867cb06",
   "metadata": {},
   "source": [
    "# Assignment 5 part 2\n",
    "**Directions** Simulate a fair die and a biased 6-sided die. The biased die has probabilities {0.15, 0.15, 0.15, 0.15, 0.15, 0.25}. Create a visualization that compares outcomes of multiple rolls of a fair die and this biased die. You can use a single visualization or multiple visualizations to demonstrate the difference in outcomes for the dice. The user of your notebook should be able to alter the number of simulations as an argument to a function."
   ]
  },
  {
   "cell_type": "code",
   "execution_count": 235,
   "id": "c0bcb593",
   "metadata": {},
   "outputs": [],
   "source": [
    "import pandas as pd\n",
    "from numpy import random\n",
    "import matplotlib.pyplot as plt"
   ]
  },
  {
   "cell_type": "code",
   "execution_count": 296,
   "id": "a08d9318",
   "metadata": {},
   "outputs": [
    {
     "name": "stdout",
     "output_type": "stream",
     "text": [
      "How many times do you want to roll the fair dice? 5\n",
      "How many times do you want to roll the bias dice? 7\n"
     ]
    }
   ],
   "source": [
    "fair_user = int(input(\"How many times do you want to roll the fair dice? \"))\n",
    "bias_user = int(input(\"How many times do you want to roll the bias dice? \"))"
   ]
  },
  {
   "cell_type": "code",
   "execution_count": 293,
   "id": "058ea0e7",
   "metadata": {},
   "outputs": [
    {
     "name": "stdout",
     "output_type": "stream",
     "text": [
      "[1, 1, 5, 5, 5]\n",
      "[6, 3, 1, 3, 5, 4, 5, 1]\n"
     ]
    }
   ],
   "source": [
    "#both have in common\n",
    "dice_heads = [1,2,3,4,5,6]\n",
    "\n",
    "#both differ\n",
    "# aka              [ 1,    2,   3,   4,   5,   6 ]\n",
    "bias_probability = [0.15,0.15,0.15,0.15,0.15,0.25] \n",
    "# aka 25% chance of getting a 6 and 75% of everything else\n",
    "\n",
    "#throws\n",
    "fair = random.choice(dice_heads, size = fair_user)\n",
    "bias = random.choice(dice_heads, p=bias_probability, size=bias_user)\n",
    "\n",
    "#make sure it works by printing the throws for both \n",
    "print(list(fair))\n",
    "print(list(bias))"
   ]
  },
  {
   "cell_type": "markdown",
   "id": "72b53666",
   "metadata": {},
   "source": [
    "Then I created 2 dataframes, one for fair throws and one for bias throws. Concatinate the two together and then print the dataframe for visual"
   ]
  },
  {
   "cell_type": "code",
   "execution_count": 289,
   "id": "f518ccb9",
   "metadata": {},
   "outputs": [
    {
     "name": "stdout",
     "output_type": "stream",
     "text": [
      "Index(['fair dice', 'bias dice'], dtype='object')\n"
     ]
    },
    {
     "data": {
      "text/html": [
       "<div>\n",
       "<style scoped>\n",
       "    .dataframe tbody tr th:only-of-type {\n",
       "        vertical-align: middle;\n",
       "    }\n",
       "\n",
       "    .dataframe tbody tr th {\n",
       "        vertical-align: top;\n",
       "    }\n",
       "\n",
       "    .dataframe thead th {\n",
       "        text-align: right;\n",
       "    }\n",
       "</style>\n",
       "<table border=\"1\" class=\"dataframe\">\n",
       "  <thead>\n",
       "    <tr style=\"text-align: right;\">\n",
       "      <th></th>\n",
       "      <th>fair dice</th>\n",
       "      <th>bias dice</th>\n",
       "    </tr>\n",
       "  </thead>\n",
       "  <tbody>\n",
       "    <tr>\n",
       "      <th>0</th>\n",
       "      <td>2.0</td>\n",
       "      <td>1</td>\n",
       "    </tr>\n",
       "    <tr>\n",
       "      <th>1</th>\n",
       "      <td>3.0</td>\n",
       "      <td>5</td>\n",
       "    </tr>\n",
       "    <tr>\n",
       "      <th>2</th>\n",
       "      <td>3.0</td>\n",
       "      <td>4</td>\n",
       "    </tr>\n",
       "    <tr>\n",
       "      <th>3</th>\n",
       "      <td>3.0</td>\n",
       "      <td>1</td>\n",
       "    </tr>\n",
       "    <tr>\n",
       "      <th>4</th>\n",
       "      <td>2.0</td>\n",
       "      <td>4</td>\n",
       "    </tr>\n",
       "    <tr>\n",
       "      <th>5</th>\n",
       "      <td>NaN</td>\n",
       "      <td>1</td>\n",
       "    </tr>\n",
       "    <tr>\n",
       "      <th>6</th>\n",
       "      <td>NaN</td>\n",
       "      <td>1</td>\n",
       "    </tr>\n",
       "    <tr>\n",
       "      <th>7</th>\n",
       "      <td>NaN</td>\n",
       "      <td>3</td>\n",
       "    </tr>\n",
       "  </tbody>\n",
       "</table>\n",
       "</div>"
      ],
      "text/plain": [
       "   fair dice  bias dice\n",
       "0        2.0          1\n",
       "1        3.0          5\n",
       "2        3.0          4\n",
       "3        3.0          1\n",
       "4        2.0          4\n",
       "5        NaN          1\n",
       "6        NaN          1\n",
       "7        NaN          3"
      ]
     },
     "execution_count": 289,
     "metadata": {},
     "output_type": "execute_result"
    }
   ],
   "source": [
    "df_fair = pd.DataFrame({'fair dice':fair}) \n",
    "df_bias = pd.DataFrame({'bias dice':bias})\n",
    "df = pd.concat([df_fair,df_bias],axis=1)\n",
    "print(df.columns)\n",
    "df"
   ]
  },
  {
   "cell_type": "markdown",
   "id": "ee0694e1",
   "metadata": {},
   "source": [
    "**BAR GRAPH VISUAL** "
   ]
  },
  {
   "cell_type": "code",
   "execution_count": 290,
   "id": "97f8950c",
   "metadata": {},
   "outputs": [
    {
     "data": {
      "image/png": "[encoded data removed]",
      "text/plain": [
       "<Figure size 432x288 with 1 Axes>"
      ]
     },
     "metadata": {
      "needs_background": "light"
     },
     "output_type": "display_data"
    }
   ],
   "source": [
    "df.plot.bar()\n",
    "plt.title(\"Comparison between fair and bias dice\")\n",
    "plt.xlabel(\"number of throws\")\n",
    "plt.ylabel(\"dice faces\")\n",
    "plt.show()"
   ]
  },
  {
   "cell_type": "markdown",
   "id": "6549069d",
   "metadata": {},
   "source": [
    "**HISTOGRAM VISUAL**"
   ]
  },
  {
   "cell_type": "code",
   "execution_count": 294,
   "id": "c3e8d1af",
   "metadata": {},
   "outputs": [
    {
     "data": {
      "image/png": "[encoded data removed]",
      "text/plain": [
       "<Figure size 432x288 with 1 Axes>"
      ]
     },
     "metadata": {
      "needs_background": "light"
     },
     "output_type": "display_data"
    }
   ],
   "source": [
    "df.plot.hist(alpha=0.5)\n",
    "plt.title(\"Comparison between fair and bias dice\")\n",
    "plt.xlabel(\"number of throws\")\n",
    "plt.ylabel(\"dice faces\")\n",
    "plt.show()"
   ]
  },
  {
   "cell_type": "code",
   "execution_count": null,
   "id": "002c408e",
   "metadata": {},
   "outputs": [],
   "source": []
  }
 ],
 "metadata": {
  "kernelspec": {
   "display_name": "Python 3",
   "language": "python",
   "name": "python3"
  },
  "language_info": {
   "codemirror_mode": {
    "name": "ipython",
    "version": 3
   },
   "file_extension": ".py",
   "mimetype": "text/x-python",
   "name": "python",
   "nbconvert_exporter": "python",
   "pygments_lexer": "ipython3",
   "version": "3.8.8"
  }
 },
 "nbformat": 4,
 "nbformat_minor": 5
}
