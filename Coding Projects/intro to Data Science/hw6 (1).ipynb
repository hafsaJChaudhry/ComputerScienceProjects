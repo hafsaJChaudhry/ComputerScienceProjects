{
 "cells": [
  {
   "cell_type": "code",
   "execution_count": 71,
   "id": "3bb4b7ab",
   "metadata": {},
   "outputs": [],
   "source": [
    "import openpyxl\n",
    "from openpyxl import Workbook, load_workbook\n",
    "\n",
    "# load excel wrkbk and get access to wb[sheets]\n",
    "wb = load_workbook('/Users/hafsachaudhry/Downloads/week_05_homework_XLSX_openpyxl.xlsx', data_only=True)\n",
    "main = wb[\"main\"]\n",
    "another = wb[\"another\"]\n",
    "\n",
    "# transfer labels from another to main \n",
    "main['G1'].value = another['B1'].value\n",
    "main['H1'].value = another['C1'].value\n",
    "main['I1'].value = another['D1'].value \n",
    "\n",
    "\n",
    "#copy data from another to main\n",
    "def copyAnotherToMain():  \n",
    "    for rowX in another.iter_rows(min_row=2, max_col=4, max_row=25, values_only=True):\n",
    "        for rowY in main.iter_rows(min_row=2, max_col=9, max_row=25):\n",
    "     \n",
    "            if rowX[0] == rowY[0].value:\n",
    "                rowY[6].value = rowX[1]\n",
    "                rowY[7].value = rowX[2]\n",
    "                rowY[8].value = rowX[3]\n",
    "                break\n",
    "\n",
    "#check if row should be blank \n",
    "def emptyCells():\n",
    "    for rowX in another.iter_rows(min_row=2, max_col=4, max_row=25, values_only=True):    \n",
    "        for rowZ in main.iter_rows(min_row=2, max_col=9, max_row=100):\n",
    "            if rowZ[0].value == None:\n",
    "                rowZ[0].value = rowX[0]\n",
    "                rowZ[6].value = rowX[1]\n",
    "                rowZ[7].value = rowX[2]\n",
    "                rowZ[8].value = rowX[3]\n",
    "                break\n",
    "\n",
    "copyAnotherToMain()\n",
    "emptyCells()\n",
    "\n",
    "#delete extra rows \n",
    "#26,27,29,30,32,33,34,36,38,39,40,42,43,45,46,47\n",
    "#move up rows\n",
    "#28 to 26, 31.27, 35.28, 37.29, 41.30, 44.31, 48.32\n",
    "\n",
    "main.delete_rows(26,2)\n",
    "main.delete_rows(27,2)\n",
    "main.delete_rows(28,3)\n",
    "main.delete_rows(29)\n",
    "main.delete_rows(30,3)\n",
    "main.delete_rows(31,3)\n",
    "main.delete_rows(32,2)\n",
    "\n",
    "\n",
    "wb.save('hw6.xlsx')"
   ]
  },
  {
   "cell_type": "code",
   "execution_count": null,
   "id": "5873c395",
   "metadata": {},
   "outputs": [],
   "source": []
  }
 ],
 "metadata": {
  "kernelspec": {
   "display_name": "Python 3",
   "language": "python",
   "name": "python3"
  },
  "language_info": {
   "codemirror_mode": {
    "name": "ipython",
    "version": 3
   },
   "file_extension": ".py",
   "mimetype": "text/x-python",
   "name": "python",
   "nbconvert_exporter": "python",
   "pygments_lexer": "ipython3",
   "version": "3.8.8"
  }
 },
 "nbformat": 4,
 "nbformat_minor": 5
}
