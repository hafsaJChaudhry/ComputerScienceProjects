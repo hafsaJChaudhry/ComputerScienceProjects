{
 "cells": [
  {
   "cell_type": "code",
   "execution_count": 2,
   "id": "86ce351b-8085-4203-8f39-6f519e13d4ea",
   "metadata": {},
   "outputs": [
    {
     "name": "stdout",
     "output_type": "stream",
     "text": [
      "Total count of elements in the string:  20\n",
      "Count of characters(+space):  17\n",
      "Count of numbers:  3\n"
     ]
    }
   ],
   "source": [
    "#1. Write a function that returns the count of characters and words in a string. The string is provided to the function as an argument.  Submit a .ipynb file via Blackboard. \n",
    "#############################################################################\n",
    "def stringCount(sstring):\n",
    "\t#counter for letters and numbers \n",
    "\tcharcount = 0\n",
    "\tnumcount = 0 \n",
    "\n",
    "\t'''for loop to traverse through the string, \n",
    "\tchecks if value is a num or char'''\n",
    "\tfor value in sstring: \n",
    "\t\tif value.isdigit():\n",
    "\t\t\tnumcount += 1\n",
    "\t\telse:\n",
    "\t\t\tcharcount += 1\n",
    "\n",
    "\tprint(\"Total count of elements in the string: \", len(sstring))\n",
    "\tprint(\"Count of characters(+space): \", charcount)\n",
    "\tprint(\"Count of numbers: \", numcount)\n",
    "\t\t\t\n",
    "def main():\n",
    "\tmyString = \"This is a string 123\"\n",
    "\tstringCount(myString)\n",
    "main()"
   ]
  },
  {
   "cell_type": "code",
   "execution_count": 3,
   "id": "a36aafe2-1e51-43fb-9f33-c2a7b501f8b5",
   "metadata": {},
   "outputs": [
    {
     "name": "stdout",
     "output_type": "stream",
     "text": [
      "Original list: [1, 2, 3, 4]\n",
      "Shifted list : [4, 1, 2, 3]\n"
     ]
    }
   ],
   "source": [
    "#2. Write a function that takes a list as the argument and returns a list with each element shifted right by one index. \n",
    "##############################################################################\n",
    "def shiftList(aList):\n",
    "# aList[-1] is last value in list\n",
    "# we \"push\" that into the beginning of the list\n",
    "# then we \"pop\" the last value off the list\n",
    "\taList.insert(0, aList[-1])\n",
    "\taList.pop(-1)\n",
    "\tprint(\"Shifted list :\", aList)\n",
    "\t\n",
    "\n",
    "def main():\n",
    "\tmyList = [1,2,3,4]\n",
    "\tprint(\"Original list:\", myList)\n",
    "\tshiftList(myList)\n",
    "main()"
   ]
  },
  {
   "cell_type": "code",
   "execution_count": null,
   "id": "8ad9aa1b-2b3c-4294-829c-4b1a8be7aa2c",
   "metadata": {},
   "outputs": [],
   "source": [
    "#3. Download data in CSV format from one of the following sites: here or here. Load the data into a Pandas dataframe. Use Pandas to count the number of rows of data and number of columns. \n",
    "#LINK to Data Source: https://support.spatialkey.com/wp-content/uploads/2021/02/SalesJan2009.csv\n",
    "##############################################################################\n",
    "import pandas as pd \n",
    "\n",
    "dataFrame = pd.read_csv('/Users/hafsachaudhry/Downloads/SalesJan2009.csv')\n",
    "print(dataFrame,\"\\n\")\n",
    "print(\"above you can see the number of rowsxcols given by the CSV file, refer back to it to double check the values I found below...\")\n",
    "print(\"The number of rows is: \", dataFrame.shape[0])\n",
    "print(\"The number of cols is: \", dataFrame.shape[1])"
   ]
  },
  {
   "cell_type": "code",
   "execution_count": null,
   "id": "b1993bfe-b2ab-4004-bcad-e3417130816a",
   "metadata": {},
   "outputs": [],
   "source": []
  }
 ],
 "metadata": {
  "kernelspec": {
   "display_name": "Python 3",
   "language": "python",
   "name": "python3"
  },
  "language_info": {
   "codemirror_mode": {
    "name": "ipython",
    "version": 3
   },
   "file_extension": ".py",
   "mimetype": "text/x-python",
   "name": "python",
   "nbconvert_exporter": "python",
   "pygments_lexer": "ipython3",
   "version": "3.8.8"
  }
 },
 "nbformat": 4,
 "nbformat_minor": 5
}
